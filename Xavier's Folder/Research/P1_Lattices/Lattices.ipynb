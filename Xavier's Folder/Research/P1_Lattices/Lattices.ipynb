{
  "cells": [
    {
      "cell_type": "code",
      "execution_count": 2,
      "metadata": {
        "cellView": "form",
        "colab": {
          "base_uri": "https://localhost:8080/"
        },
        "id": "kAf6FVF3bJvu",
        "outputId": "6468e170-8baf-482c-8410-473e90f847fa"
      },
      "outputs": [],
      "source": [
        "#@title 1. Installs for collab\n",
        "# !apt install python3-mpi4py cython3 libxc-dev gpaw-data\n",
        "# !pip -q install gpaw"
      ]
    },
    {
      "cell_type": "code",
      "execution_count": null,
      "metadata": {
        "colab": {
          "base_uri": "https://localhost:8080/"
        },
        "id": "ZN--zxeNtjU0",
        "outputId": "d9d494b0-ad2c-47f1-d6e9-04e82bdfbf48"
      },
      "outputs": [
        {
          "name": "stderr",
          "output_type": "stream",
          "text": [
            "/Users/xavierduane-tessier/anaconda3/envs/MD/lib/python3.13/site-packages/ase/dft/band_structure.py:14: VisibleDeprecationWarning: ase.dft.band_structure has been moved to ase.spectrum.band_structure. Please update your scripts; this alias will be removed in a future version of ASE.\n",
            "  warnings.warn(\"ase.dft.band_structure has been moved to \"\n"
          ]
        }
      ],
      "source": [
        "#@title 2. Imports\n",
        "import os\n",
        "import sys\n",
        "\n",
        "#Required installs: Numpy, ASE, GPAW paralelized, flatgraphene, SciPy\n",
        "import numpy as np\n",
        "\n",
        "import ase\n",
        "from ase import Atoms\n",
        "from ase.parallel import parprint\n",
        "from ase.dft.kpoints import bandpath\n",
        "from ase.dft.kpoints import get_special_points\n",
        "from ase.dft.band_structure import get_band_structure, BandStructure\n",
        "from ase.visualize import view\n",
        "\n",
        "from gpaw import GPAW, FermiDirac, PW\n",
        "from gpaw.lcao.tools import get_lcao_hamiltonian\n",
        "\n",
        "import ase.units as units\n",
        "from gpaw.utilities.tools import tri2full\n",
        "import scipy.linalg as sla\n",
        "\n",
        "import matplotlib.pyplot as plt\n",
        "\n",
        "from gpaw import GPAW, PW, FermiDirac"
      ]
    },
    {
      "cell_type": "markdown",
      "metadata": {
        "id": "Be6TxtJbAE06"
      },
      "source": [
        "# **3b Silver**"
      ]
    },
    {
      "cell_type": "code",
      "execution_count": 8,
      "metadata": {
        "colab": {
          "base_uri": "https://localhost:8080/",
          "height": 317
        },
        "id": "GPVUazJrqN79",
        "outputId": "fc53bfe4-74f0-4931-c826-a081fe84659c"
      },
      "outputs": [
        {
          "data": {
            "text/html": [
              "<html>\n",
              "    <head>\n",
              "        <title>ASE atomic visualization</title>\n",
              "        <link rel=\"stylesheet\" type=\"text/css\"             href=\"https://www.x3dom.org/release/x3dom.css\"></link>\n",
              "        <script type=\"text/javascript\"             src=\"https://www.x3dom.org/release/x3dom.js\"></script>\n",
              "    </head>\n",
              "    <body>\n",
              "        <X3D width=\"400px\"; height=\"300px\";>\n",
              "\n",
              "<!--Inserting Generated X3D Scene-->\n",
              "<scene>\n",
              "  <viewpoint position=\"0 0 4.085\">\n",
              "    <group/>\n",
              "  </viewpoint>\n",
              "  <transform translation=\"-1.02125 -0.0 -1.02125\">\n",
              "    <group>\n",
              "      <group>\n",
              "        <transform translation=\"0 0 0\">\n",
              "          <shape>\n",
              "            <appearance>\n",
              "              <material diffuseColor=\"0 0 0\"/>\n",
              "            </appearance>\n",
              "            <lineset vertexCount=\"5\">\n",
              "              <coordinate point=\"0 0 0 2.0425 2.0425 0.0 4.085 2.0425 2.0425 2.0425 0.0 2.0425 0 0 0\"/>\n",
              "            </lineset>\n",
              "          </shape>\n",
              "        </transform>\n",
              "        <transform translation=\"0.0 2.0425 2.0425\">\n",
              "          <shape>\n",
              "            <appearance>\n",
              "              <material diffuseColor=\"0 0 0\"/>\n",
              "            </appearance>\n",
              "            <lineset vertexCount=\"5\">\n",
              "              <coordinate point=\"0 0 0 2.0425 2.0425 0.0 4.085 2.0425 2.0425 2.0425 0.0 2.0425 0 0 0\"/>\n",
              "            </lineset>\n",
              "          </shape>\n",
              "        </transform>\n",
              "        <transform translation=\"0 0 0\">\n",
              "          <shape>\n",
              "            <appearance>\n",
              "              <material diffuseColor=\"0 0 0\"/>\n",
              "            </appearance>\n",
              "            <lineset vertexCount=\"5\">\n",
              "              <coordinate point=\"0 0 0 2.0425 2.0425 0.0 2.0425 4.085 2.0425 0.0 2.0425 2.0425 0 0 0\"/>\n",
              "            </lineset>\n",
              "          </shape>\n",
              "        </transform>\n",
              "        <transform translation=\"2.0425 0.0 2.0425\">\n",
              "          <shape>\n",
              "            <appearance>\n",
              "              <material diffuseColor=\"0 0 0\"/>\n",
              "            </appearance>\n",
              "            <lineset vertexCount=\"5\">\n",
              "              <coordinate point=\"0 0 0 2.0425 2.0425 0.0 2.0425 4.085 2.0425 0.0 2.0425 2.0425 0 0 0\"/>\n",
              "            </lineset>\n",
              "          </shape>\n",
              "        </transform>\n",
              "      </group>\n",
              "      <group>\n",
              "        <transform translation=\"0.0 0.0 0.0\">\n",
              "          <shape>\n",
              "            <appearance>\n",
              "              <material diffuseColor=\"0.753 0.753 0.753\"/>\n",
              "            </appearance>\n",
              "            <sphere radius=\"1.45\"/>\n",
              "          </shape>\n",
              "        </transform>\n",
              "      </group>\n",
              "    </group>\n",
              "  </transform>\n",
              "</scene>\n",
              "<!--End of Inserted Scene-->\n",
              "\n",
              "        </X3D>\n",
              "    </body>\n",
              "</html>\n",
              "\n"
            ],
            "text/plain": [
              "<IPython.core.display.HTML object>"
            ]
          },
          "execution_count": 8,
          "metadata": {},
          "output_type": "execute_result"
        }
      ],
      "source": [
        "# Silver primitive cell\n",
        "a = 4.085\n",
        "supercell = np.zeros((3,3)) # NUM VEC, DIM\n",
        "\n",
        "# Cell vectors\n",
        "supercell[0] = (a/2)*np.array([1,1,0])\n",
        "supercell[1] = (a/2)*np.array([1,0,1])\n",
        "supercell[2] = (a/2)*np.array([0,1,1])\n",
        "\n",
        "positions = np.zeros((1,3)) # Num Particle, Dim\n",
        "\n",
        "positions[0] = 0*supercell[0] + 0*supercell[1] + 0*supercell[2] # Set positions of particles in the cell (basis)\n",
        "\n",
        "silver = ase.Atoms('Ag', positions, cell=supercell, pbc=True)\n",
        "\n",
        "#Visualize\n",
        "ase.visualize.view(silver)\n",
        "view(silver, viewer='x3d')"
      ]
    },
    {
      "cell_type": "code",
      "execution_count": 5,
      "metadata": {
        "colab": {
          "base_uri": "https://localhost:8080/"
        },
        "id": "re8BeJYU0yFG",
        "outputId": "02699edb-ce70-4072-e605-bf68dc149c0e"
      },
      "outputs": [
        {
          "name": "stderr",
          "output_type": "stream",
          "text": [
            "/Users/xavierduane-tessier/anaconda3/envs/MD/lib/python3.13/site-packages/gpaw/calculator.py:734: DeprecatedParameterWarning: The fixdensity keyword has been deprecated. Please use the GPAW.fixed_density() method instead.\n",
            "  warnings.warn(\n"
          ]
        },
        {
          "name": "stdout",
          "output_type": "stream",
          "text": [
            "0.0\n",
            "1.0\n",
            "2.0\n",
            "3.0\n",
            "4.0\n",
            "5.0\n",
            "6.0\n",
            "7.0\n",
            "8.0\n",
            "9.0\n",
            "10.0\n",
            "11.0\n",
            "12.0\n",
            "13.0\n",
            "14.0\n",
            "15.0\n"
          ]
        }
      ],
      "source": [
        "# Manual parallel and more approximated band structure (good for bigger cells), manual cell and kpoints\n",
        "band_parallelization = 1\n",
        "nKpoints = 16\n",
        "nBands = 10\n",
        "basisN = 12 # 4 for carbon or Si sz(dzp), 9 for carbon or Si szp(dzp), 12 for Ag sz(dzp)\n",
        "datapath = \"/Users/xavierduane-tessier/Downloads/Untitled/MDpractice/Xavier's Folder/Research/P1_Lattices/data/\"\n",
        "Natoms = len(positions[:,0])\n",
        "\n",
        "calc = GPAW(mode='lcao',\n",
        "            basis='sz(dzp)',\n",
        "            xc='PBE',\n",
        "            kpts=(2, 2, 1),\n",
        "            occupations=FermiDirac(0.01),\n",
        "            txt=datapath+'graphene_bilayer_sc_.txt',\n",
        "            parallel=dict(band=band_parallelization,              # band parallelization\n",
        "                            augment_grids=True,  # use all cores for XC/Poisson\n",
        "                            sl_auto=True)        # enable parallel ScaLAPACK\n",
        "            )\n",
        "\n",
        "silver.calc = calc\n",
        "en1 = silver.get_potential_energy()\n",
        "calc.write(datapath+'graphene_bilayer_sc_.gpw')\n",
        "\n",
        "\n",
        "# Compute band path with a sequential approach, one kpt at a time, to use less memory.\n",
        "points = [\"W\",\"L\",\"G\",\"X\",\"W\",\"K\"]\n",
        "path = bandpath(points, supercell, nKpoints) #They are in basis of recip vec, should multiply by recips\n",
        "kpts = path.kpts\n",
        "\n",
        "# *4 is valence per atom, for sz basis carbon has 4\n",
        "eps_kn = []\n",
        "lcaoH = np.zeros((nKpoints,Natoms*basisN,Natoms*basisN), dtype=\"cdouble\")\n",
        "lcaoS = np.zeros((nKpoints,Natoms*basisN,Natoms*basisN), dtype=\"cdouble\")\n",
        "\n",
        "\n",
        "#parprint('Calculation on', len(kpts), 'k points:')\n",
        "ref, energies = [], []\n",
        "for i, k in enumerate(kpts):\n",
        "    # Restart from ground state and fix potential:\n",
        "    calc = GPAW(datapath+'graphene_bilayer_sc_.gpw',\n",
        "                fixdensity=True,\n",
        "                kpts=[k],\n",
        "                symmetry='off',\n",
        "                txt=datapath+'graphene_bilayer_bs_.txt',\n",
        "                parallel={'kpt':                 None,\n",
        "                            'domain':              None,\n",
        "                            'band':                1,\n",
        "                            'order':               'kdb',\n",
        "                            'stridebands':         False,\n",
        "                            'augment_grids':       False,\n",
        "                            'sl_auto':             False,\n",
        "                            'sl_default':          None,\n",
        "                            'sl_diagonalize':      None,\n",
        "                            'sl_inverse_cholesky': None,\n",
        "                            'sl_lcao':             None,\n",
        "                            'sl_lrtddft':          None,\n",
        "                            'use_elpa':            False,\n",
        "                            'elpasolver':          '2stage',\n",
        "                            'buffer_size':         None}        # enable parallel ScaLAPACK\n",
        "                )\n",
        "\n",
        "    silver.calc = calc\n",
        "\n",
        "    en2 = calc.get_potential_energy()\n",
        "\n",
        "    #Manual electronic structure\n",
        "    h = calc.hamiltonian\n",
        "    wfs = calc.wfs\n",
        "    kpt_u = wfs.kpt_u\n",
        "\n",
        "    for kpt in kpt_u:\n",
        "        H_MM = wfs.eigensolver.calculate_hamiltonian_matrix(h, wfs, kpt)\n",
        "        S_MM = wfs.S_qMM[kpt.q]\n",
        "        tri2full(H_MM)\n",
        "\n",
        "    H_MM = np.array(H_MM)\n",
        "    S_MM = np.array(S_MM)\n",
        "\n",
        "    lcaoH[i,:,:] = H_MM\n",
        "    lcaoS[i,:,:] = S_MM\n",
        "\n",
        "\n",
        "#Getting bands\n",
        "eps_kn = []\n",
        "for i in range(0,nKpoints):\n",
        "    eps_n, c_Mn = sla.eigh(lcaoH[i,:,:], lcaoS[i,:,:])\n",
        "    c_nM = c_Mn[:, eps_n.argsort()].transpose()\n",
        "\n",
        "    eps_n.sort()\n",
        "    eps_kn.append(eps_n)\n",
        "\n",
        "eps_kn = np.array(eps_kn)*ase.units.Hartree #Necessary if not using parallel dump H\n",
        "\n",
        "\n",
        "\n",
        "#Plotting parameters\n",
        "lowestBand = int(Natoms*2 - nBands/2)\n",
        "hightestBand = int(Natoms*2 + nBands/2) ##Bands is Natoms*valence, to get half we do valence/2, C has valence 4\n",
        "\n",
        "E = np.zeros((nBands,nKpoints))\n",
        "index = np.zeros(nKpoints)\n",
        "for i in range(0,nKpoints):\n",
        "    index[i] = i\n",
        "    print(index[i])\n",
        "\n",
        "j=0\n",
        "for i in range(lowestBand,hightestBand):\n",
        "    E[j] = eps_kn[:,i]\n",
        "    j=j+1\n",
        "\n",
        "with open(\"E_band.npy\", 'wb') as f:\n",
        "    np.save(f, E)\n",
        "\n",
        "#Export\n",
        "Positions = silver.get_positions()\n",
        "\n",
        "with open(\"PosCalc.npy\", 'wb') as f:\n",
        "    np.save(f, Positions)"
      ]
    },
    {
      "cell_type": "code",
      "execution_count": 6,
      "metadata": {
        "colab": {
          "base_uri": "https://localhost:8080/",
          "height": 455
        },
        "id": "sVGQ4Yuy-26Q",
        "outputId": "ed01427d-869a-49e8-88b8-9679ccc9ef9b"
      },
      "outputs": [
        {
          "data": {
            "image/png": "[encoded data removed]",
            "text/plain": [
              "<Figure size 640x480 with 1 Axes>"
            ]
          },
          "metadata": {},
          "output_type": "display_data"
        }
      ],
      "source": [
        "# Plot from saved file\n",
        "E = np.load(\"E_band.npy\")\n",
        "\n",
        "ax = plt.gca()\n",
        "ax.set_xlabel(\"K point\")\n",
        "ax.set_ylabel(\"Energy [eV]\")\n",
        "ax.set_ylim(-10, 20)\n",
        "plt.grid()\n",
        "\n",
        "for j in range(0,len(E)):\n",
        "    plt.plot(index, E[j], '-m')\n",
        "\n",
        "plt.show()"
      ]
    }
  ],
  "metadata": {
    "colab": {
      "provenance": []
    },
    "kernelspec": {
      "display_name": "MD",
      "language": "python",
      "name": "python3"
    },
    "language_info": {
      "codemirror_mode": {
        "name": "ipython",
        "version": 3
      },
      "file_extension": ".py",
      "mimetype": "text/x-python",
      "name": "python",
      "nbconvert_exporter": "python",
      "pygments_lexer": "ipython3",
      "version": "3.13.2"
    }
  },
  "nbformat": 4,
  "nbformat_minor": 0
}
