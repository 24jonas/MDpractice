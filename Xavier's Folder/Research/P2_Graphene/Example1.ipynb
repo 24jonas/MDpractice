{
 "cells": [
  {
   "cell_type": "code",
   "execution_count": 1,
   "id": "9a738fe2",
   "metadata": {},
   "outputs": [
    {
     "data": {
      "text/plain": [
       "<Popen: returncode: None args: ['/Users/xavierduane-tessier/anaconda3/envs/M...>"
      ]
     },
     "execution_count": 1,
     "metadata": {},
     "output_type": "execute_result"
    }
   ],
   "source": [
    "# This example creates an ABA trilayer graphene system with rectangular unit cell. Any stacking designation (A,B,SP) is defined relative to the \n",
    "# origin of the unit cell.\n",
    "\n",
    "import ase\n",
    "from ase.visualize import view\n",
    "import flatgraphene as fg\n",
    "#note the inputs are all given with variable name for clarity,\n",
    "#  but this is not necessary for required inputs\n",
    "#the nearest neighbor distance (in-plane) a_nn is optional, and\n",
    "#  overrides the lat_con variable  meaning the value of lat_con is unused\n",
    "atoms=fg.shift.make_graphene(stacking=['A','B','A'],cell_type='rect',n_1=3,n_2=3,\n",
    "                             lat_con=0.0,n_layer=3,sep=2.0,a_nn=1.5,\n",
    "                             sym='C',mass=12,h_vac=3.0)\n",
    "ase.visualize.view(atoms)\n"
   ]
  }
 ],
 "metadata": {
  "kernelspec": {
   "display_name": "MD",
   "language": "python",
   "name": "python3"
  },
  "language_info": {
   "codemirror_mode": {
    "name": "ipython",
    "version": 3
   },
   "file_extension": ".py",
   "mimetype": "text/x-python",
   "name": "python",
   "nbconvert_exporter": "python",
   "pygments_lexer": "ipython3",
   "version": "3.13.2"
  }
 },
 "nbformat": 4,
 "nbformat_minor": 5
}
