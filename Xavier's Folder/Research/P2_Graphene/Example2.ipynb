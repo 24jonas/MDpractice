{
 "cells": [
  {
   "cell_type": "code",
   "execution_count": 1,
   "id": "8311bf1a",
   "metadata": {},
   "outputs": [
    {
     "data": {
      "text/plain": [
       "<Popen: returncode: None args: ['/Users/xavierduane-tessier/anaconda3/envs/M...>"
      ]
     },
     "execution_count": 1,
     "metadata": {},
     "output_type": "execute_result"
    }
   ],
   "source": [
    "# This example gives the same result as the above, but specifies the relevant properties per layer using lists (instead of with a single value \n",
    "# to be assumed for all layers). When lists are used, all must have length n_layer. Interlayer separation is relative to the layer below, with \n",
    "# sep[i] giving spacing between layer i and i+1. The last element last element defines the spacing between top layer and top of supercell box \n",
    "# (if no vacuum is added). See the documentation in the section below for more information on fine grained options.\n",
    "\n",
    "import ase\n",
    "from ase.visualize import view\n",
    "import flatgraphene as fg\n",
    "#the comments from the above example apply here as well\n",
    "atoms=fg.shift.make_graphene(stacking=['A','B','A'],cell_type='rect',n_1=3,n_2=3,\n",
    "                             lat_con=0.0,n_layer=3,sep=[2.0,2.0,2.0],a_nn=1.5,\n",
    "                             sym=['C','C','C'],mass=[12,12,12],h_vac=3.0)\n",
    "ase.visualize.view(atoms)\n"
   ]
  }
 ],
 "metadata": {
  "kernelspec": {
   "display_name": "MD",
   "language": "python",
   "name": "python3"
  },
  "language_info": {
   "codemirror_mode": {
    "name": "ipython",
    "version": 3
   },
   "file_extension": ".py",
   "mimetype": "text/x-python",
   "name": "python",
   "nbconvert_exporter": "python",
   "pygments_lexer": "ipython3",
   "version": "3.13.2"
  }
 },
 "nbformat": 4,
 "nbformat_minor": 5
}
