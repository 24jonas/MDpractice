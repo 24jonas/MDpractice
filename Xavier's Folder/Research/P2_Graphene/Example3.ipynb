{
 "cells": [
  {
   "cell_type": "code",
   "execution_count": 1,
   "id": "486c5815",
   "metadata": {},
   "outputs": [
    {
     "data": {
      "text/plain": [
       "<Popen: returncode: None args: ['/Users/xavierduane-tessier/anaconda3/envs/M...>"
      ]
     },
     "execution_count": 1,
     "metadata": {},
     "output_type": "execute_result"
    }
   ],
   "source": [
    "# This example creates a 9.43 degree twisted system by first computing the proper p,q, then using these as inputs to make_graphene. All of the \n",
    "# properties from the shifted case which can be set here also allow the same variety of input formats (scalar, list, etc.) as above.\n",
    "\n",
    "import ase\n",
    "from ase.visualize import view\n",
    "import flatgraphene as fg\n",
    "p_found, q_found, theta_comp = fg.twist.find_p_q(9.43)\n",
    "atoms=fg.twist.make_graphene(cell_type='hex',n_layer=2,\n",
    "                             p=p_found,q=q_found,lat_con=0.0,a_nn=1.5,\n",
    "                             sep=3.35,h_vac=3)\n",
    "ase.visualize.view(atoms)\n"
   ]
  }
 ],
 "metadata": {
  "kernelspec": {
   "display_name": "MD",
   "language": "python",
   "name": "python3"
  },
  "language_info": {
   "codemirror_mode": {
    "name": "ipython",
    "version": 3
   },
   "file_extension": ".py",
   "mimetype": "text/x-python",
   "name": "python",
   "nbconvert_exporter": "python",
   "pygments_lexer": "ipython3",
   "version": "3.13.2"
  }
 },
 "nbformat": 4,
 "nbformat_minor": 5
}
